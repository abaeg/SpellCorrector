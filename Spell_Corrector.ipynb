{
 "cells": [
  {
   "cell_type": "code",
   "execution_count": 1,
   "metadata": {
    "colab": {
     "base_uri": "https://localhost:8080/"
    },
    "executionInfo": {
     "elapsed": 37095,
     "status": "ok",
     "timestamp": 1622454174482,
     "user": {
      "displayName": "Usama Khalid",
      "photoUrl": "https://lh3.googleusercontent.com/a-/AOh14GhqELYjr3tGHIfVSKTGMEhTJhpzuFUK9ZN-hP-7=s64",
      "userId": "00027308213498191725"
     },
     "user_tz": -300
    },
    "id": "p658k0EQhMBX",
    "outputId": "47560a78-7ae6-4b1b-f63d-cdcc642aa31d"
   },
   "outputs": [
    {
     "name": "stdout",
     "output_type": "stream",
     "text": [
      "Mounted at /content/drive\n"
     ]
    }
   ],
   "source": [
    "from google.colab import drive\n",
    "drive.mount('/content/drive')"
   ]
  },
  {
   "cell_type": "markdown",
   "metadata": {
    "id": "86FItjCkHDK9"
   },
   "source": [
    "# **Loading Data**"
   ]
  },
  {
   "cell_type": "markdown",
   "metadata": {
    "id": "vQ6BNQMWLhRa"
   },
   "source": [
    "Importing and storing text files in a string"
   ]
  },
  {
   "cell_type": "code",
   "execution_count": 2,
   "metadata": {
    "colab": {
     "base_uri": "https://localhost:8080/"
    },
    "executionInfo": {
     "elapsed": 8698,
     "status": "ok",
     "timestamp": 1622454183167,
     "user": {
      "displayName": "Usama Khalid",
      "photoUrl": "https://lh3.googleusercontent.com/a-/AOh14GhqELYjr3tGHIfVSKTGMEhTJhpzuFUK9ZN-hP-7=s64",
      "userId": "00027308213498191725"
     },
     "user_tz": -300
    },
    "id": "dcu-XbXxhufB",
    "outputId": "c3b4b3c1-f9ee-4fad-e235-7e82d0394316"
   },
   "outputs": [
    {
     "name": "stdout",
     "output_type": "stream",
     "text": [
      "4652818\n"
     ]
    },
    {
     "data": {
      "text/plain": [
       "['sai kha ya her kisi kay bus ki bat nhi hai lakin main ki hal kal bi aj aur aj bi sirf aus say bus\\n',\n",
       " 'kya bt hai\\n',\n",
       " 'wah je wah\\n']"
      ]
     },
     "execution_count": 2,
     "metadata": {
      "tags": []
     },
     "output_type": "execute_result"
    }
   ],
   "source": [
    "with open('/content/drive/MyDrive/data.txt','r') as f:\n",
    "  text = f.readlines()\n",
    "\n",
    "print(len(text))\n",
    "data=[]\n",
    "data+=text\n",
    "text[:3]"
   ]
  },
  {
   "cell_type": "code",
   "execution_count": 3,
   "metadata": {
    "colab": {
     "base_uri": "https://localhost:8080/"
    },
    "executionInfo": {
     "elapsed": 1617,
     "status": "ok",
     "timestamp": 1622454184776,
     "user": {
      "displayName": "Usama Khalid",
      "photoUrl": "https://lh3.googleusercontent.com/a-/AOh14GhqELYjr3tGHIfVSKTGMEhTJhpzuFUK9ZN-hP-7=s64",
      "userId": "00027308213498191725"
     },
     "user_tz": -300
    },
    "id": "a3kgNQIzwLXC",
    "outputId": "27bb2788-9be2-4e27-ab56-12686ae3f1ba"
   },
   "outputs": [
    {
     "name": "stdout",
     "output_type": "stream",
     "text": [
      "36100\n"
     ]
    },
    {
     "data": {
      "text/plain": [
       "[['ka', 'kaz', 'cka', 'mka', 'kga', 'yka', 'kba'],\n",
       " ['hai', 'qhai', 'haoi', 'ghai', 'haiu', 'hmi', 'qai', 'yhai'],\n",
       " ['mein', 'mvin', 'mqein', 'meint', 'mevn']]"
      ]
     },
     "execution_count": 3,
     "metadata": {
      "tags": []
     },
     "output_type": "execute_result"
    }
   ],
   "source": [
    " misspellings=[]\n",
    " with open('/content/drive/MyDrive/misspellings.txt','r') as file:  \n",
    "  for line in file:\n",
    "    sen=[]      \n",
    "    for word in line.split():\n",
    "      word=word.replace(\",\", \"\").strip(\"\\n\").lower()\n",
    "      sen.append(word)  \n",
    "    misspellings.append(sen)  \n",
    "misspellings=misspellings[1:]\n",
    "print(len(misspellings))\n",
    "misspellings[:3]"
   ]
  },
  {
   "cell_type": "markdown",
   "metadata": {
    "id": "K846E58YLUlX"
   },
   "source": [
    "Tokenization of sentences to create a vocabulary of words"
   ]
  },
  {
   "cell_type": "code",
   "execution_count": 4,
   "metadata": {
    "executionInfo": {
     "elapsed": 3524,
     "status": "ok",
     "timestamp": 1622454188294,
     "user": {
      "displayName": "Usama Khalid",
      "photoUrl": "https://lh3.googleusercontent.com/a-/AOh14GhqELYjr3tGHIfVSKTGMEhTJhpzuFUK9ZN-hP-7=s64",
      "userId": "00027308213498191725"
     },
     "user_tz": -300
    },
    "id": "Sp7WV6GDuqJl"
   },
   "outputs": [],
   "source": [
    "#-- Removing newline character from every sentence and changing upercase words to lower\n",
    "for i in range(0,len(data)):\n",
    "  data[i]=data[i].strip(\"\\n\").lower()"
   ]
  },
  {
   "cell_type": "code",
   "execution_count": 5,
   "metadata": {
    "colab": {
     "base_uri": "https://localhost:8080/"
    },
    "executionInfo": {
     "elapsed": 19,
     "status": "ok",
     "timestamp": 1622454188296,
     "user": {
      "displayName": "Usama Khalid",
      "photoUrl": "https://lh3.googleusercontent.com/a-/AOh14GhqELYjr3tGHIfVSKTGMEhTJhpzuFUK9ZN-hP-7=s64",
      "userId": "00027308213498191725"
     },
     "user_tz": -300
    },
    "id": "kcmCipjvwFNY",
    "outputId": "3fcc70fc-d1f4-4ea5-ef1b-f205de0c2731"
   },
   "outputs": [
    {
     "data": {
      "text/plain": [
       "('sai kha ya her kisi kay bus ki bat nhi hai lakin main ki hal kal bi aj aur aj bi sirf aus say bus',\n",
       " 'sai kha ya her kisi kay bus ki bat nhi hai lakin main ki hal kal bi aj aur aj bi sirf aus say bus\\n')"
      ]
     },
     "execution_count": 5,
     "metadata": {
      "tags": []
     },
     "output_type": "execute_result"
    }
   ],
   "source": [
    "data[0],text[0]"
   ]
  },
  {
   "cell_type": "code",
   "execution_count": 6,
   "metadata": {
    "executionInfo": {
     "elapsed": 7125,
     "status": "ok",
     "timestamp": 1622454195410,
     "user": {
      "displayName": "Usama Khalid",
      "photoUrl": "https://lh3.googleusercontent.com/a-/AOh14GhqELYjr3tGHIfVSKTGMEhTJhpzuFUK9ZN-hP-7=s64",
      "userId": "00027308213498191725"
     },
     "user_tz": -300
    },
    "id": "o9wU1ATXu4S1"
   },
   "outputs": [],
   "source": [
    "#-- Tokenization of sentences\n",
    "vocab=[]\n",
    "x=0\n",
    "for sentence in data:\n",
    "  words=sentence.split()\n",
    "  vocab+=words\n",
    "# vocab"
   ]
  },
  {
   "cell_type": "markdown",
   "metadata": {
    "id": "SOwTu4HUEwlJ"
   },
   "source": [
    "# **Language Model  - P(w)**"
   ]
  },
  {
   "cell_type": "markdown",
   "metadata": {
    "id": "IeoLqf4ywXnY"
   },
   "source": [
    "Generating Word Uigrams:\n",
    "   We have a ditionary to store unigram as key and its count as value."
   ]
  },
  {
   "cell_type": "code",
   "execution_count": 7,
   "metadata": {
    "executionInfo": {
     "elapsed": 23,
     "status": "ok",
     "timestamp": 1622454195420,
     "user": {
      "displayName": "Usama Khalid",
      "photoUrl": "https://lh3.googleusercontent.com/a-/AOh14GhqELYjr3tGHIfVSKTGMEhTJhpzuFUK9ZN-hP-7=s64",
      "userId": "00027308213498191725"
     },
     "user_tz": -300
    },
    "id": "TyUjMNQkpNBa"
   },
   "outputs": [],
   "source": [
    "#-  Function returns unigram of words\n",
    "def unigramWords(vocab):\n",
    "  diction= {}\n",
    "  for i in range(len(vocab)):\n",
    "    wrd = str(vocab[i])\n",
    "    # already exists\n",
    "    if (wrd in diction):\n",
    "      diction[wrd]+=1 \n",
    "    else:\n",
    "      diction[wrd] = 1   #words doesn't exist\n",
    "  return diction\n"
   ]
  },
  {
   "cell_type": "markdown",
   "metadata": {
    "id": "sOhUyhAi-TLd"
   },
   "source": [
    "Generating Character Uigrams:\n",
    "   We have a ditionary to store unigram as key and its count as value."
   ]
  },
  {
   "cell_type": "code",
   "execution_count": 8,
   "metadata": {
    "executionInfo": {
     "elapsed": 20,
     "status": "ok",
     "timestamp": 1622454195422,
     "user": {
      "displayName": "Usama Khalid",
      "photoUrl": "https://lh3.googleusercontent.com/a-/AOh14GhqELYjr3tGHIfVSKTGMEhTJhpzuFUK9ZN-hP-7=s64",
      "userId": "00027308213498191725"
     },
     "user_tz": -300
    },
    "id": "a89cGs4x-Pn9"
   },
   "outputs": [],
   "source": [
    "#-  Function returns unigram of chaarcters\n",
    "def unigramChars(vocab):\n",
    "  letters    = 'abcdefghijklmnopqrstuvwxyz'\n",
    "  diction={x:0 for x in letters}\n",
    "  diction\n",
    "  for wrd in vocab:\n",
    "    for c in wrd:\n",
    "      if (c in diction):\n",
    "        diction[c]+=1 \n",
    "  return diction"
   ]
  },
  {
   "cell_type": "markdown",
   "metadata": {
    "id": "yq8ZxzYa-TZr"
   },
   "source": [
    "Generating Character Bigrams:\n",
    "   We have a ditionary to store first char as key,which corespond to a sub-dictionary where key is second char and value is their count."
   ]
  },
  {
   "cell_type": "code",
   "execution_count": 9,
   "metadata": {
    "executionInfo": {
     "elapsed": 17,
     "status": "ok",
     "timestamp": 1622454195423,
     "user": {
      "displayName": "Usama Khalid",
      "photoUrl": "https://lh3.googleusercontent.com/a-/AOh14GhqELYjr3tGHIfVSKTGMEhTJhpzuFUK9ZN-hP-7=s64",
      "userId": "00027308213498191725"
     },
     "user_tz": -300
    },
    "id": "Jd2XhpWf-PxW"
   },
   "outputs": [],
   "source": [
    "\n",
    "def bigramChars(vocab):\n",
    "  letters    = 'abcdefghijklmnopqrstuvwxyz'\n",
    "  diction = {outer_letter: {inner_letter: 0 for inner_letter  in letters} for outer_letter  in letters}\n",
    "  for wrd in vocab:\n",
    "    for i in range(len(wrd)-1):\n",
    "      if (wrd[i] in diction):\n",
    "        diction[ wrd[i] ][ wrd[i+1] ]+=1 \n",
    "  return diction\n"
   ]
  },
  {
   "cell_type": "code",
   "execution_count": 10,
   "metadata": {
    "executionInfo": {
     "elapsed": 73061,
     "status": "ok",
     "timestamp": 1622454268468,
     "user": {
      "displayName": "Usama Khalid",
      "photoUrl": "https://lh3.googleusercontent.com/a-/AOh14GhqELYjr3tGHIfVSKTGMEhTJhpzuFUK9ZN-hP-7=s64",
      "userId": "00027308213498191725"
     },
     "user_tz": -300
    },
    "id": "KJ-LwDQv6Ok5"
   },
   "outputs": [],
   "source": [
    "biChars=bigramChars(vocab)  ## took 1m 46s  to ecexute"
   ]
  },
  {
   "cell_type": "code",
   "execution_count": 11,
   "metadata": {
    "executionInfo": {
     "elapsed": 20281,
     "status": "ok",
     "timestamp": 1622454288739,
     "user": {
      "displayName": "Usama Khalid",
      "photoUrl": "https://lh3.googleusercontent.com/a-/AOh14GhqELYjr3tGHIfVSKTGMEhTJhpzuFUK9ZN-hP-7=s64",
      "userId": "00027308213498191725"
     },
     "user_tz": -300
    },
    "id": "ikD2WuoLPyeL"
   },
   "outputs": [],
   "source": [
    "uniW = unigramWords(vocab) # took around 25 sec to execute"
   ]
  },
  {
   "cell_type": "code",
   "execution_count": 12,
   "metadata": {
    "executionInfo": {
     "elapsed": 35862,
     "status": "ok",
     "timestamp": 1622454324593,
     "user": {
      "displayName": "Usama Khalid",
      "photoUrl": "https://lh3.googleusercontent.com/a-/AOh14GhqELYjr3tGHIfVSKTGMEhTJhpzuFUK9ZN-hP-7=s64",
      "userId": "00027308213498191725"
     },
     "user_tz": -300
    },
    "id": "qUWregKjP6V1"
   },
   "outputs": [],
   "source": [
    "uniC = unigramChars(vocab)  # took around 45 sec to execute"
   ]
  },
  {
   "cell_type": "code",
   "execution_count": 13,
   "metadata": {
    "executionInfo": {
     "elapsed": 17,
     "status": "ok",
     "timestamp": 1622454324595,
     "user": {
      "displayName": "Usama Khalid",
      "photoUrl": "https://lh3.googleusercontent.com/a-/AOh14GhqELYjr3tGHIfVSKTGMEhTJhpzuFUK9ZN-hP-7=s64",
      "userId": "00027308213498191725"
     },
     "user_tz": -300
    },
    "id": "37W1i7zF48IQ"
   },
   "outputs": [],
   "source": [
    "#-- our new vocabulary will be a unique list of words, previous 'vocab' contains duplicates\n",
    "Vocabulary=uniW.keys()"
   ]
  },
  {
   "cell_type": "code",
   "execution_count": 14,
   "metadata": {
    "colab": {
     "base_uri": "https://localhost:8080/"
    },
    "executionInfo": {
     "elapsed": 14,
     "status": "ok",
     "timestamp": 1622454324596,
     "user": {
      "displayName": "Usama Khalid",
      "photoUrl": "https://lh3.googleusercontent.com/a-/AOh14GhqELYjr3tGHIfVSKTGMEhTJhpzuFUK9ZN-hP-7=s64",
      "userId": "00027308213498191725"
     },
     "user_tz": -300
    },
    "id": "OgLeu_SrNYDS",
    "outputId": "f45c7d42-d6d2-4e60-bda3-10b498eb561c"
   },
   "outputs": [
    {
     "data": {
      "text/plain": [
       "([('a', 61215602), ('b', 6203369)],\n",
       " [('a',\n",
       "   {'a': 5471533,\n",
       "    'b': 1532556,\n",
       "    'c': 377675,\n",
       "    'd': 1225206,\n",
       "    'e': 85558,\n",
       "    'f': 527638,\n",
       "    'g': 949703,\n",
       "    'h': 3323165,\n",
       "    'i': 4368123,\n",
       "    'j': 346544,\n",
       "    'k': 1493423,\n",
       "    'l': 2116667,\n",
       "    'm': 1849657,\n",
       "    'n': 4277763,\n",
       "    'o': 114394,\n",
       "    'p': 980441,\n",
       "    'q': 679384,\n",
       "    'r': 8003786,\n",
       "    's': 1405662,\n",
       "    't': 2762745,\n",
       "    'u': 1510076,\n",
       "    'v': 46752,\n",
       "    'w': 483862,\n",
       "    'x': 6625,\n",
       "    'y': 3152455,\n",
       "    'z': 1018428})])"
      ]
     },
     "execution_count": 14,
     "metadata": {
      "tags": []
     },
     "output_type": "execute_result"
    }
   ],
   "source": [
    "Nc=sum(uniC.values())  #total words\n",
    "# Nb=sum(biChars.values())  #total words\n",
    "Nw=len(vocab)\n",
    "\n",
    "# for k, v in uniC.items():\n",
    "#     uniC[k] = v /Nc\n",
    "# for k, v in uniW.items():\n",
    "#     uniW[k] = v /Nw\n",
    "list(uniC.items())[:2] , list(biChars.items())[:1]"
   ]
  },
  {
   "cell_type": "markdown",
   "metadata": {
    "id": "J5dDzA01ExZH"
   },
   "source": [
    "#  **Confusion Matrices**"
   ]
  },
  {
   "cell_type": "code",
   "execution_count": 16,
   "metadata": {
    "executionInfo": {
     "elapsed": 809,
     "status": "ok",
     "timestamp": 1622454343625,
     "user": {
      "displayName": "Usama Khalid",
      "photoUrl": "https://lh3.googleusercontent.com/a-/AOh14GhqELYjr3tGHIfVSKTGMEhTJhpzuFUK9ZN-hP-7=s64",
      "userId": "00027308213498191725"
     },
     "user_tz": -300
    },
    "id": "7NaGMuEUC_-a"
   },
   "outputs": [],
   "source": [
    "letters    = 'abcdefghijklmnopqrstuvwxyz@'\n",
    "Insert = {outer_letter: {inner_letter: 0 for inner_letter  in letters} for outer_letter  in letrs}  #includes @ as first char\n",
    "Delete = {outer_letter: {inner_letter: 0 for inner_letter  in letters} for outer_letter  in letrs}  #includes @ as first char\n",
    "Transpose  = {outer_letter: {inner_letter: 0 for inner_letter  in letters} for outer_letter  in letters}\n",
    "Substitute  = {outer_letter: {inner_letter: 0 for inner_letter  in letters} for outer_letter  in letters}"
   ]
  },
  {
   "cell_type": "code",
   "execution_count": 18,
   "metadata": {
    "executionInfo": {
     "elapsed": 11,
     "status": "ok",
     "timestamp": 1622454350209,
     "user": {
      "displayName": "Usama Khalid",
      "photoUrl": "https://lh3.googleusercontent.com/a-/AOh14GhqELYjr3tGHIfVSKTGMEhTJhpzuFUK9ZN-hP-7=s64",
      "userId": "00027308213498191725"
     },
     "user_tz": -300
    },
    "id": "2QRYV7z6F61J"
   },
   "outputs": [],
   "source": [
    "def check_delete(typo,correct):\n",
    "  for i in range(len(typo)):\n",
    "    wrd=typo[:i] + typo[i+1:]\n",
    "    if (wrd==correct):\n",
    "      if i ==0:\n",
    "        prev='@'\n",
    "      else:\n",
    "         prev=wrd[i-1] \n",
    "      return i,prev,typo[i]\n",
    "  return None,None,None\n",
    "\n",
    "def check_insert(typo,correct):\n",
    "  letters    = 'abcdefghijklmnopqrstuvwxyz'\n",
    "  for i in range(len(typo)+1):\n",
    "    for c in letters:\n",
    "      wrd=typo[:i] +c+ typo[i:]#add char\n",
    "      if (wrd==correct):\n",
    "        if i ==0:\n",
    "          prev='@'\n",
    "        else:\n",
    "          prev=wrd[i-1] \n",
    "        return i,prev,wrd[i]\n",
    "  return None,None,None\n",
    "\n",
    "def check_substitute(typo,correct):\n",
    "  letters    = 'abcdefghijklmnopqrstuvwxyz'\n",
    "  for i in range(len(typo)+1):\n",
    "    for c in letters:\n",
    "      wrd=typo[:i] +c+ typo[i+1:] #replace character\n",
    "      if (wrd==correct):\n",
    "        return i,typo[i],wrd[i]\n",
    "  return None,None,None\n",
    "\n",
    "def check_transpose(typo,correct):\n",
    "  for i in range(len(typo)-1):\n",
    "    twoChars=typo[i:i+2]\n",
    "    wrd = typo[:i] + twoChars[::-1] + typo[i+2:]\n",
    "    if (wrd==correct):\n",
    "      return i,twoChars[0],twoChars[1]\n",
    "  return None,None,None"
   ]
  },
  {
   "cell_type": "code",
   "execution_count": 20,
   "metadata": {
    "executionInfo": {
     "elapsed": 9546,
     "status": "ok",
     "timestamp": 1622454378080,
     "user": {
      "displayName": "Usama Khalid",
      "photoUrl": "https://lh3.googleusercontent.com/a-/AOh14GhqELYjr3tGHIfVSKTGMEhTJhpzuFUK9ZN-hP-7=s64",
      "userId": "00027308213498191725"
     },
     "user_tz": -300
    },
    "id": "CQ3KYorRAd-R"
   },
   "outputs": [],
   "source": [
    "#   Populating dictionaries of insert delete ...\n",
    "for m in misspellings:\n",
    "\n",
    "  for i in range(1,len(m)):\n",
    "      #typo,correct\n",
    "    idx,prev_char,del_char=check_delete(m[i],m[0])   #(0, '@', 't')\n",
    "    if (idx!=None):\n",
    "      # print('D ',del_char,prev_char,i,end=',   ')\n",
    "      Delete[prev_char][del_char]+=1 \n",
    "      continue\n",
    "\n",
    "    idx,prev_char,ins_char=check_insert(m[i],m[0])\n",
    "    if (idx!=None):\n",
    "      Insert[prev_char][ins_char]+=1\n",
    "      continue\n",
    "\n",
    "    idx,X,Y=check_substitute(m[i],m[0]) #X -> Y   (2, 't', 'r')\n",
    "    if (idx!=None):\n",
    "      Substitute[X][Y]+=1\n",
    "      continue\n",
    "\n",
    "    idx,X,Y=check_transpose(m[i],m[0])  #XY -> YX \n",
    "    if (idx!=None):\n",
    "      Transpose[X][Y]+=1 \n",
    "      continue\n"
   ]
  },
  {
   "cell_type": "code",
   "execution_count": 21,
   "metadata": {
    "colab": {
     "base_uri": "https://localhost:8080/"
    },
    "executionInfo": {
     "elapsed": 619,
     "status": "ok",
     "timestamp": 1622454382791,
     "user": {
      "displayName": "Usama Khalid",
      "photoUrl": "https://lh3.googleusercontent.com/a-/AOh14GhqELYjr3tGHIfVSKTGMEhTJhpzuFUK9ZN-hP-7=s64",
      "userId": "00027308213498191725"
     },
     "user_tz": -300
    },
    "id": "tvk-mbjLB8TA",
    "outputId": "b8cadbb2-a179-4f41-d3a7-324809e12d7d"
   },
   "outputs": [
    {
     "name": "stdout",
     "output_type": "stream",
     "text": [
      "{'a': {'a': 0, 'b': 9, 'c': 8, 'd': 16, 'e': 2, 'f': 3, 'g': 10, 'h': 15, 'i': 11, 'j': 3, 'k': 17, 'l': 26, 'm': 21, 'n': 30, 'o': 0, 'p': 2, 'q': 2, 'r': 40, 's': 10, 't': 40, 'u': 0, 'v': 3, 'w': 4, 'x': 1, 'y': 12, 'z': 6, '@': 0}, 'b': {'a': 24, 'b': 0, 'c': 0, 'd': 1, 'e': 6, 'f': 1, 'g': 0, 'h': 5, 'i': 6, 'j': 0, 'k': 0, 'l': 0, 'm': 0, 'n': 0, 'o': 2, 'p': 0, 'q': 0, 'r': 5, 's': 0, 't': 0, 'u': 6, 'v': 0, 'w': 0, 'x': 0, 'y': 0, 'z': 3, '@': 0}, 'c': {'a': 5, 'b': 0, 'c': 0, 'd': 0, 'e': 6, 'f': 0, 'g': 0, 'h': 21, 'i': 2, 'j': 0, 'k': 3, 'l': 2, 'm': 0, 'n': 0, 'o': 7, 'p': 0, 'q': 0, 'r': 2, 's': 1, 't': 4, 'u': 1, 'v': 0, 'w': 0, 'x': 0, 'y': 0, 'z': 0, '@': 0}, 'd': {'a': 20, 'b': 0, 'c': 0, 'd': 0, 'e': 15, 'f': 0, 'g': 2, 'h': 4, 'i': 13, 'j': 0, 'k': 0, 'l': 0, 'm': 1, 'n': 2, 'o': 7, 'p': 0, 'q': 0, 'r': 0, 's': 1, 't': 0, 'u': 4, 'v': 0, 'w': 1, 'x': 0, 'y': 1, 'z': 0, '@': 0}, 'e': {'a': 6, 'b': 1, 'c': 8, 'd': 12, 'e': 0, 'f': 1, 'g': 3, 'h': 6, 'i': 3, 'j': 1, 'k': 0, 'l': 10, 'm': 3, 'n': 15, 'o': 0, 'p': 0, 'q': 0, 'r': 21, 's': 10, 't': 7, 'u': 0, 'v': 1, 'w': 0, 'x': 2, 'y': 2, 'z': 3, '@': 0}, 'f': {'a': 5, 'b': 0, 'c': 0, 'd': 0, 'e': 1, 'f': 0, 'g': 0, 'h': 0, 'i': 3, 'j': 0, 'k': 0, 'l': 0, 'm': 0, 'n': 0, 'o': 1, 'p': 0, 'q': 0, 'r': 2, 's': 1, 't': 0, 'u': 2, 'v': 0, 'w': 0, 'x': 0, 'y': 0, 'z': 1, '@': 0}, 'g': {'a': 15, 'b': 2, 'c': 0, 'd': 0, 'e': 3, 'f': 0, 'g': 0, 'h': 7, 'i': 6, 'j': 0, 'k': 0, 'l': 2, 'm': 1, 'n': 0, 'o': 2, 'p': 0, 'q': 0, 'r': 0, 's': 0, 't': 0, 'u': 4, 'v': 0, 'w': 0, 'x': 0, 'y': 0, 'z': 1, '@': 0}, 'h': {'a': 59, 'b': 1, 'c': 0, 'd': 0, 'e': 16, 'f': 0, 'g': 0, 'h': 0, 'i': 15, 'j': 0, 'k': 1, 'l': 2, 'm': 6, 'n': 1, 'o': 20, 'p': 0, 'q': 0, 'r': 3, 's': 0, 't': 3, 'u': 12, 'v': 0, 'w': 1, 'x': 0, 'y': 2, 'z': 0, '@': 0}, 'i': {'a': 4, 'b': 2, 'c': 5, 'd': 7, 'e': 1, 'f': 2, 'g': 2, 'h': 1, 'i': 0, 'j': 1, 'k': 9, 'l': 15, 'm': 3, 'n': 34, 'o': 8, 'p': 0, 'q': 1, 'r': 11, 's': 14, 't': 12, 'u': 0, 'v': 2, 'w': 1, 'x': 0, 'y': 6, 'z': 2, '@': 0}, 'j': {'a': 11, 'b': 0, 'c': 0, 'd': 0, 'e': 0, 'f': 0, 'g': 0, 'h': 4, 'i': 5, 'j': 0, 'k': 0, 'l': 1, 'm': 1, 'n': 0, 'o': 3, 'p': 0, 'q': 0, 'r': 0, 's': 1, 't': 0, 'u': 5, 'v': 0, 'w': 1, 'x': 0, 'y': 0, 'z': 0, '@': 0}, 'k': {'a': 17, 'b': 0, 'c': 0, 'd': 0, 'e': 8, 'f': 0, 'g': 0, 'h': 14, 'i': 10, 'j': 0, 'k': 0, 'l': 2, 'm': 0, 'n': 3, 'o': 3, 'p': 1, 'q': 0, 'r': 4, 's': 1, 't': 2, 'u': 3, 'v': 0, 'w': 0, 'x': 0, 'y': 1, 'z': 0, '@': 0}, 'l': {'a': 29, 'b': 1, 'c': 0, 'd': 1, 'e': 11, 'f': 1, 'g': 1, 'h': 2, 'i': 13, 'j': 0, 'k': 1, 'l': 0, 'm': 2, 'n': 0, 'o': 4, 'p': 0, 'q': 1, 'r': 0, 's': 0, 't': 1, 'u': 1, 'v': 0, 'w': 2, 'x': 1, 'y': 4, 'z': 0, '@': 0}, 'm': {'a': 34, 'b': 1, 'c': 0, 'd': 2, 'e': 5, 'f': 0, 'g': 0, 'h': 2, 'i': 10, 'j': 1, 'k': 0, 'l': 0, 'm': 0, 'n': 1, 'o': 7, 'p': 1, 'q': 0, 'r': 1, 's': 1, 't': 1, 'u': 6, 'v': 0, 'w': 1, 'x': 0, 'y': 1, 'z': 0, '@': 0}, 'n': {'a': 26, 'b': 2, 'c': 6, 'd': 10, 'e': 7, 'f': 0, 'g': 14, 'h': 1, 'i': 7, 'j': 1, 'k': 1, 'l': 0, 'm': 0, 'n': 0, 'o': 2, 'p': 0, 'q': 1, 'r': 1, 's': 4, 't': 9, 'u': 2, 'v': 1, 'w': 1, 'x': 0, 'y': 3, 'z': 1, '@': 0}, 'o': {'a': 2, 'b': 2, 'c': 1, 'd': 7, 'e': 2, 'f': 0, 'g': 2, 'h': 0, 'i': 1, 'j': 1, 'k': 4, 'l': 6, 'm': 6, 'n': 24, 'o': 0, 'p': 4, 'q': 0, 'r': 18, 's': 6, 't': 2, 'u': 2, 'v': 2, 'w': 2, 'x': 0, 'y': 2, 'z': 1, '@': 0}, 'p': {'a': 10, 'b': 0, 'c': 0, 'd': 1, 'e': 9, 'f': 0, 'g': 0, 'h': 3, 'i': 3, 'j': 0, 'k': 0, 'l': 1, 'm': 0, 'n': 1, 'o': 7, 'p': 0, 'q': 0, 'r': 7, 's': 1, 't': 0, 'u': 3, 'v': 0, 'w': 0, 'x': 0, 'y': 1, 'z': 0, '@': 0}, 'q': {'a': 1, 'b': 1, 'c': 0, 'd': 0, 'e': 2, 'f': 0, 'g': 0, 'h': 0, 'i': 1, 'j': 0, 'k': 0, 'l': 0, 'm': 0, 'n': 0, 'o': 1, 'p': 0, 'q': 0, 'r': 0, 's': 1, 't': 0, 'u': 1, 'v': 0, 'w': 0, 'x': 0, 'y': 0, 'z': 0, '@': 0}, 'r': {'a': 30, 'b': 0, 'c': 0, 'd': 6, 'e': 12, 'f': 1, 'g': 1, 'h': 1, 'i': 17, 'j': 2, 'k': 3, 'l': 1, 'm': 1, 'n': 4, 'o': 13, 'p': 0, 'q': 0, 'r': 0, 's': 3, 't': 3, 'u': 3, 'v': 1, 'w': 0, 'x': 0, 'y': 7, 'z': 1, '@': 0}, 's': {'a': 25, 'b': 1, 'c': 1, 'd': 0, 'e': 18, 'f': 0, 'g': 0, 'h': 19, 'i': 7, 'j': 0, 'k': 0, 'l': 1, 'm': 1, 'n': 1, 'o': 2, 'p': 4, 'q': 0, 'r': 1, 's': 0, 't': 10, 'u': 6, 'v': 1, 'w': 0, 'x': 0, 'y': 1, 'z': 0, '@': 0}, 't': {'a': 28, 'b': 0, 'c': 0, 'd': 1, 'e': 20, 'f': 0, 'g': 0, 'h': 6, 'i': 12, 'j': 0, 'k': 0, 'l': 0, 'm': 0, 'n': 0, 'o': 8, 'p': 0, 'q': 2, 'r': 7, 's': 1, 't': 0, 'u': 5, 'v': 1, 'w': 2, 'x': 0, 'y': 3, 'z': 0, '@': 0}, 'u': {'a': 0, 'b': 4, 'c': 1, 'd': 5, 'e': 1, 'f': 1, 'g': 1, 'h': 4, 'i': 1, 'j': 1, 'k': 4, 'l': 9, 'm': 5, 'n': 10, 'o': 0, 'p': 3, 'q': 1, 'r': 16, 's': 9, 't': 3, 'u': 0, 'v': 0, 'w': 2, 'x': 0, 'y': 0, 'z': 1, '@': 0}, 'v': {'a': 3, 'b': 0, 'c': 0, 'd': 0, 'e': 6, 'f': 0, 'g': 0, 'h': 0, 'i': 4, 'j': 0, 'k': 0, 'l': 0, 'm': 0, 'n': 0, 'o': 4, 'p': 0, 'q': 0, 'r': 0, 's': 0, 't': 0, 'u': 0, 'v': 0, 'w': 0, 'x': 0, 'y': 0, 'z': 0, '@': 0}, 'w': {'a': 15, 'b': 1, 'c': 0, 'd': 1, 'e': 2, 'f': 0, 'g': 0, 'h': 1, 'i': 3, 'j': 0, 'k': 0, 'l': 0, 'm': 0, 'n': 0, 'o': 0, 'p': 0, 'q': 0, 'r': 1, 's': 0, 't': 0, 'u': 0, 'v': 0, 'w': 0, 'x': 0, 'y': 0, 'z': 0, '@': 0}, 'x': {'a': 1, 'b': 0, 'c': 0, 'd': 0, 'e': 1, 'f': 0, 'g': 0, 'h': 0, 'i': 1, 'j': 0, 'k': 0, 'l': 0, 'm': 0, 'n': 0, 'o': 1, 'p': 0, 'q': 0, 'r': 0, 's': 0, 't': 0, 'u': 0, 'v': 0, 'w': 0, 'x': 0, 'y': 0, 'z': 0, '@': 0}, 'y': {'a': 11, 'b': 0, 'c': 0, 'd': 2, 'e': 4, 'f': 0, 'g': 0, 'h': 0, 'i': 2, 'j': 0, 'k': 0, 'l': 0, 'm': 0, 'n': 0, 'o': 0, 'p': 0, 'q': 0, 'r': 0, 's': 0, 't': 1, 'u': 0, 'v': 0, 'w': 0, 'x': 0, 'y': 0, 'z': 1, '@': 0}, 'z': {'a': 5, 'b': 1, 'c': 0, 'd': 1, 'e': 2, 'f': 0, 'g': 0, 'h': 0, 'i': 0, 'j': 0, 'k': 0, 'l': 0, 'm': 0, 'n': 0, 'o': 1, 'p': 0, 'q': 0, 'r': 1, 's': 0, 't': 0, 'u': 0, 'v': 0, 'w': 0, 'x': 0, 'y': 1, 'z': 0, '@': 0}, '@': {'a': 41, 'b': 23, 'c': 18, 'd': 15, 'e': 14, 'f': 9, 'g': 7, 'h': 19, 'i': 18, 'j': 9, 'k': 24, 'l': 9, 'm': 30, 'n': 12, 'o': 13, 'p': 20, 'q': 5, 'r': 16, 's': 27, 't': 20, 'u': 8, 'v': 4, 'w': 2, 'x': 0, 'y': 0, 'z': 4, '@': 0}}\n"
     ]
    }
   ],
   "source": [
    "print(Insert)"
   ]
  },
  {
   "cell_type": "markdown",
   "metadata": {
    "id": "Q5A_XoKxASPh"
   },
   "source": [
    "# **Candidate Words Generation**"
   ]
  },
  {
   "cell_type": "markdown",
   "metadata": {
    "id": "29stBjFBa4xR"
   },
   "source": [
    "\n",
    "  Stores candidates in a dictionary where key is candidate word and first value of tuple is operation Insert=I, Delete=D, Substitue=S, Transpose=T\n",
    "  eg. candidates of acress\n",
    "  {'actress': ('D', 't', 2), 'acres': ('I', 's', 4), 'caress': ('T', 'ca','ac'0), 'access': ('S', 'r', 'c', 2)}"
   ]
  },
  {
   "cell_type": "code",
   "execution_count": 25,
   "metadata": {
    "executionInfo": {
     "elapsed": 720,
     "status": "ok",
     "timestamp": 1622454413826,
     "user": {
      "displayName": "Usama Khalid",
      "photoUrl": "https://lh3.googleusercontent.com/a-/AOh14GhqELYjr3tGHIfVSKTGMEhTJhpzuFUK9ZN-hP-7=s64",
      "userId": "00027308213498191725"
     },
     "user_tz": -300
    },
    "id": "vCItpW5iby1I"
   },
   "outputs": [],
   "source": [
    "def getCandidates(typo,voc):\n",
    "  short_vocab=[x for x in voc if (abs(len(x)-len(typo))<=1)]\n",
    "  candidates={}\n",
    "  for c in short_vocab:\n",
    "    idx,prev_char,del_char=check_delete(typo,c)   #(0, '@', 't')\n",
    "    if (idx!=None):\n",
    "      candidates[c]=('D',prev_char,del_char,idx) \n",
    "      continue\n",
    "\n",
    "    idx,prev_char,ins_char=check_insert(typo,c)\n",
    "    if (idx!=None):\n",
    "      candidates[c]=('I',prev_char,ins_char,idx) \n",
    "      continue\n",
    "\n",
    "    idx,X,Y=check_substitute(typo,c) #X -> Y   (2, 't', 'r')\n",
    "    if (idx!=None):\n",
    "      candidates[c]=('S',X,Y,idx) \n",
    "      continue\n",
    "\n",
    "    idx,X,Y=check_transpose(typo,c)  #XY -> YX \n",
    "    if (idx!=None):\n",
    "      candidates[c]=('t',X+Y,Y+X,idx)  \n",
    "    \n",
    "  return candidates"
   ]
  },
  {
   "cell_type": "code",
   "execution_count": 26,
   "metadata": {
    "colab": {
     "base_uri": "https://localhost:8080/"
    },
    "executionInfo": {
     "elapsed": 721,
     "status": "ok",
     "timestamp": 1622454417208,
     "user": {
      "displayName": "Usama Khalid",
      "photoUrl": "https://lh3.googleusercontent.com/a-/AOh14GhqELYjr3tGHIfVSKTGMEhTJhpzuFUK9ZN-hP-7=s64",
      "userId": "00027308213498191725"
     },
     "user_tz": -300
    },
    "id": "eUkk7jS4ZY3q",
    "outputId": "10670618-3aaa-421d-f7a8-5d5e6faddfa7"
   },
   "outputs": [
    {
     "name": "stdout",
     "output_type": "stream",
     "text": [
      "{'her': ('S', 'k', 'h', 0), 'kar': ('S', 'e', 'a', 1), 'ke': ('D', 'e', 'r', 2), 'key': ('S', 'r', 'y', 2), 'keh': ('S', 'r', 'h', 2), 'kr': ('D', 'k', 'e', 1), 'ker': ('S', 'k', 'k', 0), 'per': ('S', 'k', 'p', 0), 'kea': ('S', 'r', 'a', 2), 'kei': ('S', 'r', 'i', 2), 'kher': ('I', 'k', 'h', 1), 'kre': ('t', 'er', 're', 1), 'kero': ('I', 'r', 'o', 3), 'kee': ('S', 'r', 'e', 2), 'der': ('S', 'k', 'd', 0), 'krr': ('S', 'e', 'r', 1), 'kdr': ('S', 'e', 'd', 1), 'fer': ('S', 'k', 'f', 0), 'kur': ('S', 'e', 'u', 1), 'kere': ('I', 'r', 'e', 3), 'eer': ('S', 'k', 'e', 0), 'er': ('D', '@', 'k', 0), 'ver': ('S', 'k', 'v', 0), 'yer': ('S', 'k', 'y', 0), 'oker': ('I', '@', 'o', 0), 'ber': ('S', 'k', 'b', 0), 'ser': ('S', 'k', 's', 0), 'ger': ('S', 'k', 'g', 0), 'kor': ('S', 'e', 'o', 1), 'ler': ('S', 'k', 'l', 0), 'mer': ('S', 'k', 'm', 0), 'kera': ('I', 'r', 'a', 3), 'keu': ('S', 'r', 'u', 2), 'keo': ('S', 'r', 'o', 2), 'ter': ('S', 'k', 't', 0), 'kery': ('I', 'r', 'y', 3), 'kir': ('S', 'e', 'i', 1), 'aer': ('S', 'k', 'a', 0), 'aker': ('I', '@', 'a', 0), 'kes': ('S', 'r', 's', 2), 'ken': ('S', 'r', 'n', 2), 'zer': ('S', 'k', 'z', 0), 'kek': ('S', 'r', 'k', 2), 'jer': ('S', 'k', 'j', 0)}\n"
     ]
    }
   ],
   "source": [
    "candidates=getCandidates(\"ker\",Vocabulary)\n",
    "print(candidates)"
   ]
  },
  {
   "cell_type": "markdown",
   "metadata": {
    "id": "BI7ESlQMEw9O"
   },
   "source": [
    "# **Error Model P(x | w )**"
   ]
  },
  {
   "cell_type": "code",
   "execution_count": null,
   "metadata": {
    "executionInfo": {
     "elapsed": 29,
     "status": "aborted",
     "timestamp": 1622454325342,
     "user": {
      "displayName": "Usama Khalid",
      "photoUrl": "https://lh3.googleusercontent.com/a-/AOh14GhqELYjr3tGHIfVSKTGMEhTJhpzuFUK9ZN-hP-7=s64",
      "userId": "00027308213498191725"
     },
     "user_tz": -300
    },
    "id": "PKycma5BaVS-"
   },
   "outputs": [],
   "source": [
    "EM_words=[]\n",
    "EM_probs=[]\n",
    "for wrd in candidates:\n",
    "  EM_words.append(wrd)\n",
    "  if candidates[wrd][0]=='S':\n",
    "    t=candidates[wrd][1]\n",
    "    c=candidates[wrd][2]\n",
    "    Substitute[t][c]/uniC[c]\n",
    "\n"
   ]
  },
  {
   "cell_type": "code",
   "execution_count": null,
   "metadata": {
    "executionInfo": {
     "elapsed": 30,
     "status": "aborted",
     "timestamp": 1622454325343,
     "user": {
      "displayName": "Usama Khalid",
      "photoUrl": "https://lh3.googleusercontent.com/a-/AOh14GhqELYjr3tGHIfVSKTGMEhTJhpzuFUK9ZN-hP-7=s64",
      "userId": "00027308213498191725"
     },
     "user_tz": -300
    },
    "id": "Bmj_PePUqKG6"
   },
   "outputs": [],
   "source": []
  },
  {
   "cell_type": "markdown",
   "metadata": {
    "id": "T1cvBAsLF-Cu"
   },
   "source": [
    "# **Selection Model using argmax**"
   ]
  },
  {
   "cell_type": "code",
   "execution_count": null,
   "metadata": {
    "executionInfo": {
     "elapsed": 31,
     "status": "aborted",
     "timestamp": 1622454325344,
     "user": {
      "displayName": "Usama Khalid",
      "photoUrl": "https://lh3.googleusercontent.com/a-/AOh14GhqELYjr3tGHIfVSKTGMEhTJhpzuFUK9ZN-hP-7=s64",
      "userId": "00027308213498191725"
     },
     "user_tz": -300
    },
    "id": "yrhSyr9rqOBi"
   },
   "outputs": [],
   "source": [
    "import numpy as np\n",
    " \n",
    "probs = np.array(EM_probs)\n",
    "wrds= np.array(EM_words)\n",
    "i=np.argmax(probs)\n",
    "CorrectedWord=wrds[i]\n",
    "print(CorrectedWord)"
   ]
  }
 ],
 "metadata": {
  "colab": {
   "collapsed_sections": [],
   "name": "i17_0327.ipynb",
   "provenance": []
  },
  "kernelspec": {
   "display_name": "Python 3",
   "language": "python",
   "name": "python3"
  },
  "language_info": {
   "codemirror_mode": {
    "name": "ipython",
    "version": 3
   },
   "file_extension": ".py",
   "mimetype": "text/x-python",
   "name": "python",
   "nbconvert_exporter": "python",
   "pygments_lexer": "ipython3",
   "version": "3.8.5"
  }
 },
 "nbformat": 4,
 "nbformat_minor": 1
}
